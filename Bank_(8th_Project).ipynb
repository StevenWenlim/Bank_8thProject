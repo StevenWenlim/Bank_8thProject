{
  "cells": [
    {
      "cell_type": "markdown",
      "metadata": {
        "id": "k2HbEBwk-CxU"
      },
      "source": [
        "# Model Prediksi Perilaku Nasabah Bank Beta"
      ]
    },
    {
      "cell_type": "markdown",
      "metadata": {
        "id": "I1RDAP7X-CxU"
      },
      "source": [
        "# Konten <a id='contents'></a>\n",
        "\n",
        "* [1 Gambaran Besar](#big_picture)\n",
        "    * [1.1 Pendahuluan](#intro)\n",
        "    * [1.2 Deskripsi Data](#data_description)\n",
        "    * [1.3 Tujuan dan Langkah-Langkah Pengerjaan Projek](#goals_and_step)\n",
        "\n",
        "* [2 Prapemrosesan Data](#data_preprocessing)\n",
        "    * [2.1 Memuat Data](#load_data)\n",
        "    * [2.2 Eksplorasi Data Awal](#initial_data_exploration)\n",
        "    * [2.3 Kesimpulan Awal](#initial_summary)\n",
        "    \n",
        "* [3 Memisahkan Data menjadi 3 Set](#split_data)\n",
        "    \n",
        "* [4 Melatih Model](#model_train)\n",
        "\n",
        "* [5 Memeriksa Kualitas Data Set](#check_model_accuracy)\n",
        "\n",
        "* [6 Sanity Check](#sanity_check)\n",
        "\n",
        "* [7 Kesimpulan](#summary)"
      ]
    },
    {
      "cell_type": "markdown",
      "metadata": {
        "id": "OgmIWiOB-CxV"
      },
      "source": [
        " ## Gambaran Besar <a id='big_picture'></a>"
      ]
    },
    {
      "cell_type": "markdown",
      "metadata": {
        "id": "Lx4tI4U5-CxV"
      },
      "source": [
        "### Pendahuluan <a id='intro'></a>"
      ]
    },
    {
      "cell_type": "markdown",
      "metadata": {
        "id": "HhXDykpP-CxV"
      },
      "source": [
        "Nasabah Bank Beta pergi meninggalkan perusahaan: sedikit demi sedikit, jumlah mereka berkurang setiap bulannya. Para pegawai bank menyadari bahwa lebih murah untuk mempertahankan nasabah lama mereka yang setia daripada menarik nasabah baru.\n",
        "\n",
        "Sebagai seorang Data Scientist di Bank Beta, saya diminta untuk membuat model yang mampu untuk memprediksi apakah seorang nasabah akan segera meninggalkan bank atau tidak. Data yang dimiliki adalah data terkait perilaku para klien di masa lalu dan riwayat pemutusan kontrak mereka dengan bank.\n",
        "\n",
        "Model yang buat harus memiliki nilai F1 lebih besar dari 0.59 dengan pertimbangan metrik AUC-ROC untuk melakukan penilaian terhadap model"
      ]
    },
    {
      "cell_type": "markdown",
      "metadata": {
        "id": "PI_hWlYH-CxV"
      },
      "source": [
        "### Deskripsi Data <a id='data_description'></a>"
      ]
    },
    {
      "cell_type": "markdown",
      "metadata": {
        "id": "NNmYMozl-CxV"
      },
      "source": [
        "**Fitur:**\n",
        "- RowNumber — indeks string data\n",
        "- CustomerId — ID pelanggan\n",
        "- Surname — nama belakang\n",
        "- CreditScore — skor kredit\n",
        "- Geography — negara domisili\n",
        "- Gender — gender\n",
        "- Age — umur\n",
        "- Tenure — jangka waktu jatuh tempo untuk deposito tetap nasabah (tahun)\n",
        "- Balance — saldo rekening\n",
        "- NumOfProducts — jumlah produk bank yang digunakan oleh nasabah\n",
        "- HasCrCard — apakah nasabah memiliki kartu kredit\n",
        "- IsActiveMember — tingkat keaktifan nasabah\n",
        "- EstimatedSalary — estimasi gaji\n",
        "\n",
        "**Target:**\n",
        "- Exited — apakah nasabah telah berhenti"
      ]
    },
    {
      "cell_type": "markdown",
      "metadata": {
        "id": "iV1fVtYw-CxW"
      },
      "source": [
        "### Tujuan dan Langkah-Langkah Pengerjaan Projek <a id='goals_and_step'></a>"
      ]
    },
    {
      "cell_type": "markdown",
      "metadata": {
        "id": "Q9_G03Z4-CxW"
      },
      "source": [
        "**Tujuan dari proyek ini adalah membuat model untuk memprediksi apakah nasabah Bank Beta akan memutus kontrak dengan perusahaan atau tidak**\n",
        "\n",
        "**Langkah yang akan saya lakukan**\n",
        "1. Mempelajari data pada tabel\n",
        "2. Memisahkan data sumber menjadi training set, validation set, dan test set.\n",
        "3. Melakukan pelatihan model tanpa memeperbaiki ketidakseimbangan.\n",
        "4. Meningkatkan kualitas model dengan memperbaiki ketidakseimbangan.\n",
        "5. Mekaukan pelatihan dengan menggunakan model lainnya\n",
        "5. Melakukan sanity check terhadap model.\n",
        "7. Melakukan pemeriksanaan nilai AUC-ROC dan F1"
      ]
    },
    {
      "cell_type": "markdown",
      "metadata": {
        "id": "h8IbLko3-CxW"
      },
      "source": [
        "## Pra Pemrosesan Data <a id='data_preprocessing'></a>"
      ]
    },
    {
      "cell_type": "code",
      "execution_count": null,
      "metadata": {
        "id": "26oBdFXF-CxW"
      },
      "outputs": [],
      "source": [
        "# Muat semua library\n",
        "import pandas as pd\n",
        "import matplotlib.pyplot as plt\n",
        "import seaborn as sns\n",
        "import numpy as np\n",
        "\n",
        "from scipy import stats as st \n",
        "\n",
        "from sklearn.tree import DecisionTreeClassifier, DecisionTreeRegressor\n",
        "from sklearn.ensemble import RandomForestClassifier, RandomForestRegressor\n",
        "from sklearn.linear_model import LogisticRegression, LinearRegression\n",
        "\n",
        "from sklearn.model_selection import train_test_split, GridSearchCV\n",
        "from sklearn.metrics import mean_squared_error, f1_score, roc_auc_score\n",
        "from sklearn.preprocessing import OrdinalEncoder, StandardScaler\n",
        "from sklearn.metrics import roc_auc_score\n",
        "\n",
        "from sklearn.utils import shuffle\n",
        "\n",
        "import warnings\n",
        "warnings.filterwarnings(\"ignore\")"
      ]
    },
    {
      "cell_type": "markdown",
      "metadata": {
        "id": "SaOpXQ0m-CxX"
      },
      "source": [
        "### Memuat Data <a id='load_data'></a>"
      ]
    },
    {
      "cell_type": "code",
      "execution_count": null,
      "metadata": {
        "id": "pQCNAX18-CxX"
      },
      "outputs": [],
      "source": [
        "# Muat file data menjadi DataFrame\n",
        "df = pd.read_csv('/datasets/Churn.csv')"
      ]
    },
    {
      "cell_type": "markdown",
      "metadata": {
        "id": "xTXQizht-CxY"
      },
      "source": [
        "### Eksplorasi Data Awal <a id='initial_data_exploration'></a>"
      ]
    },
    {
      "cell_type": "code",
      "execution_count": null,
      "metadata": {
        "scrolled": true,
        "id": "QTBelABI-CxY",
        "outputId": "358a805a-bd17-417c-f0cb-5f20cfc89a38"
      },
      "outputs": [
        {
          "data": {
            "text/html": [
              "<div>\n",
              "<style scoped>\n",
              "    .dataframe tbody tr th:only-of-type {\n",
              "        vertical-align: middle;\n",
              "    }\n",
              "\n",
              "    .dataframe tbody tr th {\n",
              "        vertical-align: top;\n",
              "    }\n",
              "\n",
              "    .dataframe thead th {\n",
              "        text-align: right;\n",
              "    }\n",
              "</style>\n",
              "<table border=\"1\" class=\"dataframe\">\n",
              "  <thead>\n",
              "    <tr style=\"text-align: right;\">\n",
              "      <th></th>\n",
              "      <th>RowNumber</th>\n",
              "      <th>CustomerId</th>\n",
              "      <th>Surname</th>\n",
              "      <th>CreditScore</th>\n",
              "      <th>Geography</th>\n",
              "      <th>Gender</th>\n",
              "      <th>Age</th>\n",
              "      <th>Tenure</th>\n",
              "      <th>Balance</th>\n",
              "      <th>NumOfProducts</th>\n",
              "      <th>HasCrCard</th>\n",
              "      <th>IsActiveMember</th>\n",
              "      <th>EstimatedSalary</th>\n",
              "      <th>Exited</th>\n",
              "    </tr>\n",
              "  </thead>\n",
              "  <tbody>\n",
              "    <tr>\n",
              "      <th>1818</th>\n",
              "      <td>1819</td>\n",
              "      <td>15800517</td>\n",
              "      <td>Huang</td>\n",
              "      <td>633</td>\n",
              "      <td>Spain</td>\n",
              "      <td>Male</td>\n",
              "      <td>32</td>\n",
              "      <td>5.0</td>\n",
              "      <td>163340.12</td>\n",
              "      <td>2</td>\n",
              "      <td>1</td>\n",
              "      <td>1</td>\n",
              "      <td>74415.20</td>\n",
              "      <td>0</td>\n",
              "    </tr>\n",
              "    <tr>\n",
              "      <th>186</th>\n",
              "      <td>187</td>\n",
              "      <td>15771977</td>\n",
              "      <td>T'ao</td>\n",
              "      <td>730</td>\n",
              "      <td>France</td>\n",
              "      <td>Female</td>\n",
              "      <td>39</td>\n",
              "      <td>1.0</td>\n",
              "      <td>99010.67</td>\n",
              "      <td>1</td>\n",
              "      <td>1</td>\n",
              "      <td>0</td>\n",
              "      <td>194945.80</td>\n",
              "      <td>0</td>\n",
              "    </tr>\n",
              "    <tr>\n",
              "      <th>3131</th>\n",
              "      <td>3132</td>\n",
              "      <td>15614187</td>\n",
              "      <td>Pottinger</td>\n",
              "      <td>648</td>\n",
              "      <td>Germany</td>\n",
              "      <td>Female</td>\n",
              "      <td>39</td>\n",
              "      <td>3.0</td>\n",
              "      <td>126935.98</td>\n",
              "      <td>2</td>\n",
              "      <td>0</td>\n",
              "      <td>1</td>\n",
              "      <td>57995.74</td>\n",
              "      <td>0</td>\n",
              "    </tr>\n",
              "    <tr>\n",
              "      <th>4174</th>\n",
              "      <td>4175</td>\n",
              "      <td>15810593</td>\n",
              "      <td>Forbes</td>\n",
              "      <td>568</td>\n",
              "      <td>France</td>\n",
              "      <td>Male</td>\n",
              "      <td>51</td>\n",
              "      <td>4.0</td>\n",
              "      <td>0.00</td>\n",
              "      <td>3</td>\n",
              "      <td>1</td>\n",
              "      <td>1</td>\n",
              "      <td>66586.56</td>\n",
              "      <td>0</td>\n",
              "    </tr>\n",
              "    <tr>\n",
              "      <th>3711</th>\n",
              "      <td>3712</td>\n",
              "      <td>15729489</td>\n",
              "      <td>Hyde</td>\n",
              "      <td>762</td>\n",
              "      <td>Germany</td>\n",
              "      <td>Female</td>\n",
              "      <td>34</td>\n",
              "      <td>8.0</td>\n",
              "      <td>98592.88</td>\n",
              "      <td>1</td>\n",
              "      <td>0</td>\n",
              "      <td>1</td>\n",
              "      <td>191790.29</td>\n",
              "      <td>1</td>\n",
              "    </tr>\n",
              "    <tr>\n",
              "      <th>8089</th>\n",
              "      <td>8090</td>\n",
              "      <td>15623357</td>\n",
              "      <td>Onio</td>\n",
              "      <td>692</td>\n",
              "      <td>Germany</td>\n",
              "      <td>Male</td>\n",
              "      <td>24</td>\n",
              "      <td>2.0</td>\n",
              "      <td>120596.93</td>\n",
              "      <td>1</td>\n",
              "      <td>0</td>\n",
              "      <td>1</td>\n",
              "      <td>180490.53</td>\n",
              "      <td>0</td>\n",
              "    </tr>\n",
              "    <tr>\n",
              "      <th>6649</th>\n",
              "      <td>6650</td>\n",
              "      <td>15635277</td>\n",
              "      <td>Coates</td>\n",
              "      <td>605</td>\n",
              "      <td>Spain</td>\n",
              "      <td>Male</td>\n",
              "      <td>47</td>\n",
              "      <td>7.0</td>\n",
              "      <td>142643.54</td>\n",
              "      <td>1</td>\n",
              "      <td>1</td>\n",
              "      <td>0</td>\n",
              "      <td>189310.27</td>\n",
              "      <td>0</td>\n",
              "    </tr>\n",
              "    <tr>\n",
              "      <th>3673</th>\n",
              "      <td>3674</td>\n",
              "      <td>15606915</td>\n",
              "      <td>Genovese</td>\n",
              "      <td>764</td>\n",
              "      <td>France</td>\n",
              "      <td>Male</td>\n",
              "      <td>24</td>\n",
              "      <td>7.0</td>\n",
              "      <td>98148.61</td>\n",
              "      <td>1</td>\n",
              "      <td>1</td>\n",
              "      <td>0</td>\n",
              "      <td>26843.76</td>\n",
              "      <td>0</td>\n",
              "    </tr>\n",
              "    <tr>\n",
              "      <th>7801</th>\n",
              "      <td>7802</td>\n",
              "      <td>15798844</td>\n",
              "      <td>Chijindum</td>\n",
              "      <td>678</td>\n",
              "      <td>France</td>\n",
              "      <td>Male</td>\n",
              "      <td>54</td>\n",
              "      <td>NaN</td>\n",
              "      <td>128914.97</td>\n",
              "      <td>1</td>\n",
              "      <td>0</td>\n",
              "      <td>0</td>\n",
              "      <td>191746.23</td>\n",
              "      <td>1</td>\n",
              "    </tr>\n",
              "    <tr>\n",
              "      <th>8608</th>\n",
              "      <td>8609</td>\n",
              "      <td>15649060</td>\n",
              "      <td>Chien</td>\n",
              "      <td>727</td>\n",
              "      <td>Germany</td>\n",
              "      <td>Female</td>\n",
              "      <td>31</td>\n",
              "      <td>NaN</td>\n",
              "      <td>82729.47</td>\n",
              "      <td>2</td>\n",
              "      <td>1</td>\n",
              "      <td>0</td>\n",
              "      <td>60212.51</td>\n",
              "      <td>0</td>\n",
              "    </tr>\n",
              "  </tbody>\n",
              "</table>\n",
              "</div>"
            ],
            "text/plain": [
              "      RowNumber  CustomerId    Surname  CreditScore Geography  Gender  Age  \\\n",
              "1818       1819    15800517      Huang          633     Spain    Male   32   \n",
              "186         187    15771977       T'ao          730    France  Female   39   \n",
              "3131       3132    15614187  Pottinger          648   Germany  Female   39   \n",
              "4174       4175    15810593     Forbes          568    France    Male   51   \n",
              "3711       3712    15729489       Hyde          762   Germany  Female   34   \n",
              "8089       8090    15623357       Onio          692   Germany    Male   24   \n",
              "6649       6650    15635277     Coates          605     Spain    Male   47   \n",
              "3673       3674    15606915   Genovese          764    France    Male   24   \n",
              "7801       7802    15798844  Chijindum          678    France    Male   54   \n",
              "8608       8609    15649060      Chien          727   Germany  Female   31   \n",
              "\n",
              "      Tenure    Balance  NumOfProducts  HasCrCard  IsActiveMember  \\\n",
              "1818     5.0  163340.12              2          1               1   \n",
              "186      1.0   99010.67              1          1               0   \n",
              "3131     3.0  126935.98              2          0               1   \n",
              "4174     4.0       0.00              3          1               1   \n",
              "3711     8.0   98592.88              1          0               1   \n",
              "8089     2.0  120596.93              1          0               1   \n",
              "6649     7.0  142643.54              1          1               0   \n",
              "3673     7.0   98148.61              1          1               0   \n",
              "7801     NaN  128914.97              1          0               0   \n",
              "8608     NaN   82729.47              2          1               0   \n",
              "\n",
              "      EstimatedSalary  Exited  \n",
              "1818         74415.20       0  \n",
              "186         194945.80       0  \n",
              "3131         57995.74       0  \n",
              "4174         66586.56       0  \n",
              "3711        191790.29       1  \n",
              "8089        180490.53       0  \n",
              "6649        189310.27       0  \n",
              "3673         26843.76       0  \n",
              "7801        191746.23       1  \n",
              "8608         60212.51       0  "
            ]
          },
          "execution_count": 3,
          "metadata": {},
          "output_type": "execute_result"
        }
      ],
      "source": [
        "# Menampilkan sample data untuk melihat data secara sekilas\n",
        "df.sample(10)"
      ]
    },
    {
      "cell_type": "code",
      "execution_count": null,
      "metadata": {
        "id": "VD68CHUb-CxZ",
        "outputId": "01097b8c-4f4c-430a-8a9c-698e9c48406b"
      },
      "outputs": [
        {
          "name": "stdout",
          "output_type": "stream",
          "text": [
            "<class 'pandas.core.frame.DataFrame'>\n",
            "RangeIndex: 10000 entries, 0 to 9999\n",
            "Data columns (total 14 columns):\n",
            " #   Column           Non-Null Count  Dtype  \n",
            "---  ------           --------------  -----  \n",
            " 0   RowNumber        10000 non-null  int64  \n",
            " 1   CustomerId       10000 non-null  int64  \n",
            " 2   Surname          10000 non-null  object \n",
            " 3   CreditScore      10000 non-null  int64  \n",
            " 4   Geography        10000 non-null  object \n",
            " 5   Gender           10000 non-null  object \n",
            " 6   Age              10000 non-null  int64  \n",
            " 7   Tenure           9091 non-null   float64\n",
            " 8   Balance          10000 non-null  float64\n",
            " 9   NumOfProducts    10000 non-null  int64  \n",
            " 10  HasCrCard        10000 non-null  int64  \n",
            " 11  IsActiveMember   10000 non-null  int64  \n",
            " 12  EstimatedSalary  10000 non-null  float64\n",
            " 13  Exited           10000 non-null  int64  \n",
            "dtypes: float64(3), int64(8), object(3)\n",
            "memory usage: 1.1+ MB\n"
          ]
        }
      ],
      "source": [
        "# Menampilkan informasi/rangkuman umum tentang DataFrame\n",
        "df.info()"
      ]
    },
    {
      "cell_type": "code",
      "execution_count": null,
      "metadata": {
        "id": "JRmdK8wB-CxZ",
        "outputId": "f3433682-2c3c-4bdd-8829-460b26bd8335"
      },
      "outputs": [
        {
          "data": {
            "text/plain": [
              "array([1, 0])"
            ]
          },
          "execution_count": 5,
          "metadata": {},
          "output_type": "execute_result"
        }
      ],
      "source": [
        "df.IsActiveMember.unique()"
      ]
    },
    {
      "cell_type": "code",
      "execution_count": null,
      "metadata": {
        "id": "El9H08ch-CxZ",
        "outputId": "c31d32e9-dd5c-4a06-b976-4e2e47e99de3"
      },
      "outputs": [
        {
          "data": {
            "text/html": [
              "<div>\n",
              "<style scoped>\n",
              "    .dataframe tbody tr th:only-of-type {\n",
              "        vertical-align: middle;\n",
              "    }\n",
              "\n",
              "    .dataframe tbody tr th {\n",
              "        vertical-align: top;\n",
              "    }\n",
              "\n",
              "    .dataframe thead th {\n",
              "        text-align: right;\n",
              "    }\n",
              "</style>\n",
              "<table border=\"1\" class=\"dataframe\">\n",
              "  <thead>\n",
              "    <tr style=\"text-align: right;\">\n",
              "      <th></th>\n",
              "      <th>RowNumber</th>\n",
              "      <th>CustomerId</th>\n",
              "      <th>CreditScore</th>\n",
              "      <th>Age</th>\n",
              "      <th>Tenure</th>\n",
              "      <th>Balance</th>\n",
              "      <th>NumOfProducts</th>\n",
              "      <th>HasCrCard</th>\n",
              "      <th>IsActiveMember</th>\n",
              "      <th>EstimatedSalary</th>\n",
              "      <th>Exited</th>\n",
              "    </tr>\n",
              "  </thead>\n",
              "  <tbody>\n",
              "    <tr>\n",
              "      <th>count</th>\n",
              "      <td>10000.00000</td>\n",
              "      <td>1.000000e+04</td>\n",
              "      <td>10000.000000</td>\n",
              "      <td>10000.000000</td>\n",
              "      <td>9091.000000</td>\n",
              "      <td>10000.000000</td>\n",
              "      <td>10000.000000</td>\n",
              "      <td>10000.00000</td>\n",
              "      <td>10000.000000</td>\n",
              "      <td>10000.000000</td>\n",
              "      <td>10000.000000</td>\n",
              "    </tr>\n",
              "    <tr>\n",
              "      <th>mean</th>\n",
              "      <td>5000.50000</td>\n",
              "      <td>1.569094e+07</td>\n",
              "      <td>650.528800</td>\n",
              "      <td>38.921800</td>\n",
              "      <td>4.997690</td>\n",
              "      <td>76485.889288</td>\n",
              "      <td>1.530200</td>\n",
              "      <td>0.70550</td>\n",
              "      <td>0.515100</td>\n",
              "      <td>100090.239881</td>\n",
              "      <td>0.203700</td>\n",
              "    </tr>\n",
              "    <tr>\n",
              "      <th>std</th>\n",
              "      <td>2886.89568</td>\n",
              "      <td>7.193619e+04</td>\n",
              "      <td>96.653299</td>\n",
              "      <td>10.487806</td>\n",
              "      <td>2.894723</td>\n",
              "      <td>62397.405202</td>\n",
              "      <td>0.581654</td>\n",
              "      <td>0.45584</td>\n",
              "      <td>0.499797</td>\n",
              "      <td>57510.492818</td>\n",
              "      <td>0.402769</td>\n",
              "    </tr>\n",
              "    <tr>\n",
              "      <th>min</th>\n",
              "      <td>1.00000</td>\n",
              "      <td>1.556570e+07</td>\n",
              "      <td>350.000000</td>\n",
              "      <td>18.000000</td>\n",
              "      <td>0.000000</td>\n",
              "      <td>0.000000</td>\n",
              "      <td>1.000000</td>\n",
              "      <td>0.00000</td>\n",
              "      <td>0.000000</td>\n",
              "      <td>11.580000</td>\n",
              "      <td>0.000000</td>\n",
              "    </tr>\n",
              "    <tr>\n",
              "      <th>25%</th>\n",
              "      <td>2500.75000</td>\n",
              "      <td>1.562853e+07</td>\n",
              "      <td>584.000000</td>\n",
              "      <td>32.000000</td>\n",
              "      <td>2.000000</td>\n",
              "      <td>0.000000</td>\n",
              "      <td>1.000000</td>\n",
              "      <td>0.00000</td>\n",
              "      <td>0.000000</td>\n",
              "      <td>51002.110000</td>\n",
              "      <td>0.000000</td>\n",
              "    </tr>\n",
              "    <tr>\n",
              "      <th>50%</th>\n",
              "      <td>5000.50000</td>\n",
              "      <td>1.569074e+07</td>\n",
              "      <td>652.000000</td>\n",
              "      <td>37.000000</td>\n",
              "      <td>5.000000</td>\n",
              "      <td>97198.540000</td>\n",
              "      <td>1.000000</td>\n",
              "      <td>1.00000</td>\n",
              "      <td>1.000000</td>\n",
              "      <td>100193.915000</td>\n",
              "      <td>0.000000</td>\n",
              "    </tr>\n",
              "    <tr>\n",
              "      <th>75%</th>\n",
              "      <td>7500.25000</td>\n",
              "      <td>1.575323e+07</td>\n",
              "      <td>718.000000</td>\n",
              "      <td>44.000000</td>\n",
              "      <td>7.000000</td>\n",
              "      <td>127644.240000</td>\n",
              "      <td>2.000000</td>\n",
              "      <td>1.00000</td>\n",
              "      <td>1.000000</td>\n",
              "      <td>149388.247500</td>\n",
              "      <td>0.000000</td>\n",
              "    </tr>\n",
              "    <tr>\n",
              "      <th>max</th>\n",
              "      <td>10000.00000</td>\n",
              "      <td>1.581569e+07</td>\n",
              "      <td>850.000000</td>\n",
              "      <td>92.000000</td>\n",
              "      <td>10.000000</td>\n",
              "      <td>250898.090000</td>\n",
              "      <td>4.000000</td>\n",
              "      <td>1.00000</td>\n",
              "      <td>1.000000</td>\n",
              "      <td>199992.480000</td>\n",
              "      <td>1.000000</td>\n",
              "    </tr>\n",
              "  </tbody>\n",
              "</table>\n",
              "</div>"
            ],
            "text/plain": [
              "         RowNumber    CustomerId   CreditScore           Age       Tenure  \\\n",
              "count  10000.00000  1.000000e+04  10000.000000  10000.000000  9091.000000   \n",
              "mean    5000.50000  1.569094e+07    650.528800     38.921800     4.997690   \n",
              "std     2886.89568  7.193619e+04     96.653299     10.487806     2.894723   \n",
              "min        1.00000  1.556570e+07    350.000000     18.000000     0.000000   \n",
              "25%     2500.75000  1.562853e+07    584.000000     32.000000     2.000000   \n",
              "50%     5000.50000  1.569074e+07    652.000000     37.000000     5.000000   \n",
              "75%     7500.25000  1.575323e+07    718.000000     44.000000     7.000000   \n",
              "max    10000.00000  1.581569e+07    850.000000     92.000000    10.000000   \n",
              "\n",
              "             Balance  NumOfProducts    HasCrCard  IsActiveMember  \\\n",
              "count   10000.000000   10000.000000  10000.00000    10000.000000   \n",
              "mean    76485.889288       1.530200      0.70550        0.515100   \n",
              "std     62397.405202       0.581654      0.45584        0.499797   \n",
              "min         0.000000       1.000000      0.00000        0.000000   \n",
              "25%         0.000000       1.000000      0.00000        0.000000   \n",
              "50%     97198.540000       1.000000      1.00000        1.000000   \n",
              "75%    127644.240000       2.000000      1.00000        1.000000   \n",
              "max    250898.090000       4.000000      1.00000        1.000000   \n",
              "\n",
              "       EstimatedSalary        Exited  \n",
              "count     10000.000000  10000.000000  \n",
              "mean     100090.239881      0.203700  \n",
              "std       57510.492818      0.402769  \n",
              "min          11.580000      0.000000  \n",
              "25%       51002.110000      0.000000  \n",
              "50%      100193.915000      0.000000  \n",
              "75%      149388.247500      0.000000  \n",
              "max      199992.480000      1.000000  "
            ]
          },
          "execution_count": 6,
          "metadata": {},
          "output_type": "execute_result"
        }
      ],
      "source": [
        "# Memampilkan nilai statistik dari kolom numerik\n",
        "df.describe()"
      ]
    },
    {
      "cell_type": "code",
      "execution_count": null,
      "metadata": {
        "id": "FgxOvRdM-CxZ",
        "outputId": "180048db-ac31-46be-b918-ec958a86af52"
      },
      "outputs": [
        {
          "data": {
            "text/plain": [
              "0    0.7963\n",
              "1    0.2037\n",
              "Name: Exited, dtype: float64"
            ]
          },
          "execution_count": 7,
          "metadata": {},
          "output_type": "execute_result"
        }
      ],
      "source": [
        "# Melihat distribusi nasabah yang masih aktif/tidak\n",
        "df['Exited'].value_counts()/ len(df)"
      ]
    },
    {
      "cell_type": "code",
      "execution_count": null,
      "metadata": {
        "id": "sk7yAWva-Cxa"
      },
      "outputs": [],
      "source": [
        "df.fillna(value=0, inplace=True)"
      ]
    },
    {
      "cell_type": "markdown",
      "metadata": {
        "id": "robvp8km-Cxa"
      },
      "source": [
        "### Kesimpulan Awal <a id='initial_summary'></a>"
      ]
    },
    {
      "cell_type": "markdown",
      "metadata": {
        "id": "AGDfnOej-Cxa"
      },
      "source": [
        "**Insights:**\n",
        "1. Terdapat ketidakseimbangan data, jika dianggap nilai 1 adalah nasabah yang sudah berhenti maka data nasabah yang sudah berhenti hanya berkisar 20% dari total data nasabah Bank Beta\n",
        "2. Terdapat nilai yang hilang pada kolom Tenure, tetapi disini saya akan menganggap bahwa Nasabah tidak memiliki deposito sama sekali sehingga datanya saya isi dengan nilai nol saja\n",
        "3. Rata-rata umur nasabah Bank Beta adalah 39\n",
        "4. Mayoritas nasabah Bank Beta memiliki kartu kredit"
      ]
    },
    {
      "cell_type": "markdown",
      "metadata": {
        "id": "YL2K8ayd-Cxa"
      },
      "source": [
        "## Memisahkan Data menjadi 3 set <a id='split_data'></a>"
      ]
    },
    {
      "cell_type": "code",
      "execution_count": null,
      "metadata": {
        "id": "IZ3fdHb1-Cxb",
        "outputId": "9c755777-cb29-4b8b-9195-e3c424624e92"
      },
      "outputs": [
        {
          "data": {
            "text/plain": [
              "'# Rumus untuk lowercase nama kolom pada dataframe\\ndef lowercase_columns(df):\\n    df.columns = [col.lower() for col in df.columns]\\n    return df'"
            ]
          },
          "execution_count": 9,
          "metadata": {},
          "output_type": "execute_result"
        }
      ],
      "source": [
        "\"\"\"# Rumus untuk lowercase nama kolom pada dataframe\n",
        "def lowercase_columns(df):\n",
        "    df.columns = [col.lower() for col in df.columns]\n",
        "    return df\"\"\""
      ]
    },
    {
      "cell_type": "code",
      "execution_count": null,
      "metadata": {
        "id": "FLPDZ6c0-Cxb"
      },
      "outputs": [],
      "source": [
        "# Rumus untuk lowercase nama kolom pada dataframe\n",
        "df.columns = df.columns.str.lower()"
      ]
    },
    {
      "cell_type": "code",
      "execution_count": null,
      "metadata": {
        "id": "FjQNEFFz-Cxb",
        "outputId": "17c55d36-96ab-499d-cef8-53d00bd86eb9"
      },
      "outputs": [
        {
          "data": {
            "text/plain": [
              "Index(['rownumber', 'customerid', 'surname', 'creditscore', 'geography',\n",
              "       'gender', 'age', 'tenure', 'balance', 'numofproducts', 'hascrcard',\n",
              "       'isactivemember', 'estimatedsalary', 'exited'],\n",
              "      dtype='object')"
            ]
          },
          "execution_count": 11,
          "metadata": {},
          "output_type": "execute_result"
        }
      ],
      "source": [
        "# Mnggunakan fungsi lowercase\n",
        "df.columns"
      ]
    },
    {
      "cell_type": "code",
      "execution_count": null,
      "metadata": {
        "id": "J6fcSRzV-Cxc",
        "outputId": "e95bd4f3-c779-48fc-a0e2-477c2d2fb860"
      },
      "outputs": [
        {
          "data": {
            "text/html": [
              "<div>\n",
              "<style scoped>\n",
              "    .dataframe tbody tr th:only-of-type {\n",
              "        vertical-align: middle;\n",
              "    }\n",
              "\n",
              "    .dataframe tbody tr th {\n",
              "        vertical-align: top;\n",
              "    }\n",
              "\n",
              "    .dataframe thead th {\n",
              "        text-align: right;\n",
              "    }\n",
              "</style>\n",
              "<table border=\"1\" class=\"dataframe\">\n",
              "  <thead>\n",
              "    <tr style=\"text-align: right;\">\n",
              "      <th></th>\n",
              "      <th>rownumber</th>\n",
              "      <th>customerid</th>\n",
              "      <th>surname</th>\n",
              "      <th>creditscore</th>\n",
              "      <th>geography</th>\n",
              "      <th>gender</th>\n",
              "      <th>age</th>\n",
              "      <th>tenure</th>\n",
              "      <th>balance</th>\n",
              "      <th>numofproducts</th>\n",
              "      <th>hascrcard</th>\n",
              "      <th>isactivemember</th>\n",
              "      <th>estimatedsalary</th>\n",
              "      <th>exited</th>\n",
              "    </tr>\n",
              "  </thead>\n",
              "  <tbody>\n",
              "    <tr>\n",
              "      <th>0</th>\n",
              "      <td>0.0</td>\n",
              "      <td>2736.0</td>\n",
              "      <td>1115.0</td>\n",
              "      <td>228.0</td>\n",
              "      <td>0.0</td>\n",
              "      <td>0.0</td>\n",
              "      <td>24.0</td>\n",
              "      <td>2.0</td>\n",
              "      <td>0.0</td>\n",
              "      <td>0.0</td>\n",
              "      <td>1.0</td>\n",
              "      <td>1.0</td>\n",
              "      <td>5068.0</td>\n",
              "      <td>1.0</td>\n",
              "    </tr>\n",
              "    <tr>\n",
              "      <th>1</th>\n",
              "      <td>1.0</td>\n",
              "      <td>3258.0</td>\n",
              "      <td>1177.0</td>\n",
              "      <td>217.0</td>\n",
              "      <td>2.0</td>\n",
              "      <td>0.0</td>\n",
              "      <td>23.0</td>\n",
              "      <td>1.0</td>\n",
              "      <td>743.0</td>\n",
              "      <td>0.0</td>\n",
              "      <td>0.0</td>\n",
              "      <td>1.0</td>\n",
              "      <td>5639.0</td>\n",
              "      <td>0.0</td>\n",
              "    </tr>\n",
              "    <tr>\n",
              "      <th>2</th>\n",
              "      <td>2.0</td>\n",
              "      <td>2104.0</td>\n",
              "      <td>2040.0</td>\n",
              "      <td>111.0</td>\n",
              "      <td>0.0</td>\n",
              "      <td>0.0</td>\n",
              "      <td>24.0</td>\n",
              "      <td>8.0</td>\n",
              "      <td>5793.0</td>\n",
              "      <td>2.0</td>\n",
              "      <td>1.0</td>\n",
              "      <td>0.0</td>\n",
              "      <td>5707.0</td>\n",
              "      <td>1.0</td>\n",
              "    </tr>\n",
              "    <tr>\n",
              "      <th>3</th>\n",
              "      <td>3.0</td>\n",
              "      <td>5435.0</td>\n",
              "      <td>289.0</td>\n",
              "      <td>308.0</td>\n",
              "      <td>0.0</td>\n",
              "      <td>0.0</td>\n",
              "      <td>21.0</td>\n",
              "      <td>1.0</td>\n",
              "      <td>0.0</td>\n",
              "      <td>1.0</td>\n",
              "      <td>0.0</td>\n",
              "      <td>0.0</td>\n",
              "      <td>4704.0</td>\n",
              "      <td>0.0</td>\n",
              "    </tr>\n",
              "    <tr>\n",
              "      <th>4</th>\n",
              "      <td>4.0</td>\n",
              "      <td>6899.0</td>\n",
              "      <td>1822.0</td>\n",
              "      <td>459.0</td>\n",
              "      <td>2.0</td>\n",
              "      <td>0.0</td>\n",
              "      <td>25.0</td>\n",
              "      <td>2.0</td>\n",
              "      <td>3696.0</td>\n",
              "      <td>0.0</td>\n",
              "      <td>1.0</td>\n",
              "      <td>1.0</td>\n",
              "      <td>3925.0</td>\n",
              "      <td>0.0</td>\n",
              "    </tr>\n",
              "    <tr>\n",
              "      <th>...</th>\n",
              "      <td>...</td>\n",
              "      <td>...</td>\n",
              "      <td>...</td>\n",
              "      <td>...</td>\n",
              "      <td>...</td>\n",
              "      <td>...</td>\n",
              "      <td>...</td>\n",
              "      <td>...</td>\n",
              "      <td>...</td>\n",
              "      <td>...</td>\n",
              "      <td>...</td>\n",
              "      <td>...</td>\n",
              "      <td>...</td>\n",
              "      <td>...</td>\n",
              "    </tr>\n",
              "    <tr>\n",
              "      <th>9995</th>\n",
              "      <td>9995.0</td>\n",
              "      <td>1599.0</td>\n",
              "      <td>1999.0</td>\n",
              "      <td>380.0</td>\n",
              "      <td>0.0</td>\n",
              "      <td>1.0</td>\n",
              "      <td>21.0</td>\n",
              "      <td>5.0</td>\n",
              "      <td>0.0</td>\n",
              "      <td>1.0</td>\n",
              "      <td>1.0</td>\n",
              "      <td>0.0</td>\n",
              "      <td>4827.0</td>\n",
              "      <td>0.0</td>\n",
              "    </tr>\n",
              "    <tr>\n",
              "      <th>9996</th>\n",
              "      <td>9996.0</td>\n",
              "      <td>161.0</td>\n",
              "      <td>1336.0</td>\n",
              "      <td>125.0</td>\n",
              "      <td>0.0</td>\n",
              "      <td>1.0</td>\n",
              "      <td>17.0</td>\n",
              "      <td>10.0</td>\n",
              "      <td>124.0</td>\n",
              "      <td>0.0</td>\n",
              "      <td>1.0</td>\n",
              "      <td>1.0</td>\n",
              "      <td>5087.0</td>\n",
              "      <td>0.0</td>\n",
              "    </tr>\n",
              "    <tr>\n",
              "      <th>9997</th>\n",
              "      <td>9997.0</td>\n",
              "      <td>717.0</td>\n",
              "      <td>1570.0</td>\n",
              "      <td>318.0</td>\n",
              "      <td>0.0</td>\n",
              "      <td>0.0</td>\n",
              "      <td>18.0</td>\n",
              "      <td>7.0</td>\n",
              "      <td>0.0</td>\n",
              "      <td>0.0</td>\n",
              "      <td>0.0</td>\n",
              "      <td>1.0</td>\n",
              "      <td>2062.0</td>\n",
              "      <td>1.0</td>\n",
              "    </tr>\n",
              "    <tr>\n",
              "      <th>9998</th>\n",
              "      <td>9998.0</td>\n",
              "      <td>4656.0</td>\n",
              "      <td>2345.0</td>\n",
              "      <td>381.0</td>\n",
              "      <td>1.0</td>\n",
              "      <td>1.0</td>\n",
              "      <td>24.0</td>\n",
              "      <td>3.0</td>\n",
              "      <td>427.0</td>\n",
              "      <td>1.0</td>\n",
              "      <td>1.0</td>\n",
              "      <td>0.0</td>\n",
              "      <td>4639.0</td>\n",
              "      <td>1.0</td>\n",
              "    </tr>\n",
              "    <tr>\n",
              "      <th>9999</th>\n",
              "      <td>9999.0</td>\n",
              "      <td>2497.0</td>\n",
              "      <td>2751.0</td>\n",
              "      <td>401.0</td>\n",
              "      <td>0.0</td>\n",
              "      <td>0.0</td>\n",
              "      <td>10.0</td>\n",
              "      <td>0.0</td>\n",
              "      <td>4112.0</td>\n",
              "      <td>0.0</td>\n",
              "      <td>1.0</td>\n",
              "      <td>0.0</td>\n",
              "      <td>1878.0</td>\n",
              "      <td>0.0</td>\n",
              "    </tr>\n",
              "  </tbody>\n",
              "</table>\n",
              "<p>10000 rows × 14 columns</p>\n",
              "</div>"
            ],
            "text/plain": [
              "      rownumber  customerid  surname  creditscore  geography  gender   age  \\\n",
              "0           0.0      2736.0   1115.0        228.0        0.0     0.0  24.0   \n",
              "1           1.0      3258.0   1177.0        217.0        2.0     0.0  23.0   \n",
              "2           2.0      2104.0   2040.0        111.0        0.0     0.0  24.0   \n",
              "3           3.0      5435.0    289.0        308.0        0.0     0.0  21.0   \n",
              "4           4.0      6899.0   1822.0        459.0        2.0     0.0  25.0   \n",
              "...         ...         ...      ...          ...        ...     ...   ...   \n",
              "9995     9995.0      1599.0   1999.0        380.0        0.0     1.0  21.0   \n",
              "9996     9996.0       161.0   1336.0        125.0        0.0     1.0  17.0   \n",
              "9997     9997.0       717.0   1570.0        318.0        0.0     0.0  18.0   \n",
              "9998     9998.0      4656.0   2345.0        381.0        1.0     1.0  24.0   \n",
              "9999     9999.0      2497.0   2751.0        401.0        0.0     0.0  10.0   \n",
              "\n",
              "      tenure  balance  numofproducts  hascrcard  isactivemember  \\\n",
              "0        2.0      0.0            0.0        1.0             1.0   \n",
              "1        1.0    743.0            0.0        0.0             1.0   \n",
              "2        8.0   5793.0            2.0        1.0             0.0   \n",
              "3        1.0      0.0            1.0        0.0             0.0   \n",
              "4        2.0   3696.0            0.0        1.0             1.0   \n",
              "...      ...      ...            ...        ...             ...   \n",
              "9995     5.0      0.0            1.0        1.0             0.0   \n",
              "9996    10.0    124.0            0.0        1.0             1.0   \n",
              "9997     7.0      0.0            0.0        0.0             1.0   \n",
              "9998     3.0    427.0            1.0        1.0             0.0   \n",
              "9999     0.0   4112.0            0.0        1.0             0.0   \n",
              "\n",
              "      estimatedsalary  exited  \n",
              "0              5068.0     1.0  \n",
              "1              5639.0     0.0  \n",
              "2              5707.0     1.0  \n",
              "3              4704.0     0.0  \n",
              "4              3925.0     0.0  \n",
              "...               ...     ...  \n",
              "9995           4827.0     0.0  \n",
              "9996           5087.0     0.0  \n",
              "9997           2062.0     1.0  \n",
              "9998           4639.0     1.0  \n",
              "9999           1878.0     0.0  \n",
              "\n",
              "[10000 rows x 14 columns]"
            ]
          },
          "execution_count": 12,
          "metadata": {},
          "output_type": "execute_result"
        }
      ],
      "source": [
        "# Melakukan Pengkodean label untuk Form \n",
        "encoder = OrdinalEncoder()\n",
        "df_ordinal = pd.DataFrame(encoder.fit_transform(df), columns=df.columns)\n",
        "df_ordinal"
      ]
    },
    {
      "cell_type": "code",
      "execution_count": null,
      "metadata": {
        "id": "fXE-I1Xb-Cxc"
      },
      "outputs": [],
      "source": [
        "# Mendefininikan data features dan data target\n",
        "features = df_ordinal.drop(['exited'], axis=1)\n",
        "target = df_ordinal['exited']"
      ]
    },
    {
      "cell_type": "code",
      "execution_count": null,
      "metadata": {
        "id": "igDU9aSd-Cxc"
      },
      "outputs": [],
      "source": [
        "# Membagi dataframe menjadi 3 set\n",
        "features_train, features_check, target_train, target_check = train_test_split(\n",
        "    features, target, test_size = 0.4, random_state = 12345)\n",
        "\n",
        "features_valid, features_test, target_valid, target_test = train_test_split(\n",
        "    features_check, target_check, test_size = 0.5, random_state = 12345)"
      ]
    },
    {
      "cell_type": "code",
      "execution_count": null,
      "metadata": {
        "id": "hWDIbY2P-Cxc",
        "outputId": "99c9fc85-ee9b-475a-f784-3fa4857f0b39"
      },
      "outputs": [
        {
          "name": "stdout",
          "output_type": "stream",
          "text": [
            "(6000, 13)\n",
            "(2000, 13)\n",
            "(2000, 13)\n",
            "(6000,)\n",
            "(2000,)\n",
            "(2000,)\n"
          ]
        }
      ],
      "source": [
        "print(features_train.shape)\n",
        "print(features_valid.shape)\n",
        "print(features_test.shape)\n",
        "print(target_train.shape)\n",
        "print(target_valid.shape)\n",
        "print(target_test.shape)"
      ]
    },
    {
      "cell_type": "markdown",
      "metadata": {
        "id": "z2mbLdbd-Cxc"
      },
      "source": [
        "## Melatih Model <a id='model_train'></a>"
      ]
    },
    {
      "cell_type": "markdown",
      "metadata": {
        "id": "uRQGCOk9-Cxc"
      },
      "source": [
        "Dari ketiga jenis model yang dipelajari pada sprint sebelumnya (Decision Tree, Random Forest, dan Logistics Regresion) didapatkan bahwa **Random Forest** memiliki tingkat akurasi yang tinggi, sehingga untuk model pertama saya akan menggunakan  model Random Forest, lalu melakukan perbandingan dengan Logistics Regression."
      ]
    },
    {
      "cell_type": "markdown",
      "metadata": {
        "id": "hLMh5pYX-Cxd"
      },
      "source": [
        "### Melatih Model RandomForestClassifier <a id='rfc_model_train'></a>"
      ]
    },
    {
      "cell_type": "code",
      "execution_count": null,
      "metadata": {
        "id": "y9bHs1w8-Cxd",
        "outputId": "c44ed265-97ad-49cd-e5ca-c487b1571d77"
      },
      "outputs": [
        {
          "data": {
            "text/plain": [
              "0.5341812400635929"
            ]
          },
          "execution_count": 16,
          "metadata": {},
          "output_type": "execute_result"
        }
      ],
      "source": [
        "# Membuat model\n",
        "rfc = RandomForestClassifier(random_state=12345)\n",
        "rfc.fit(features_train, target_train)\n",
        "predicted_valid = rfc.predict(features_valid)\n",
        "f1_score(target_valid, predicted_valid)"
      ]
    },
    {
      "cell_type": "code",
      "execution_count": null,
      "metadata": {
        "scrolled": true,
        "id": "-IA7QYeG-Cxd",
        "outputId": "ddbaea8d-4e9c-4519-b912-7a3ba4865630"
      },
      "outputs": [
        {
          "data": {
            "text/plain": [
              "0.8316383779238927"
            ]
          },
          "execution_count": 17,
          "metadata": {},
          "output_type": "execute_result"
        }
      ],
      "source": [
        "# Menghitung nilai AUC-ROC\n",
        "probabilities_valid = rfc.predict_proba(features_valid)\n",
        "probabilities_one_valid = probabilities_valid[:, 1]\n",
        "\n",
        "roc_auc_score(target_valid, probabilities_one_valid)"
      ]
    },
    {
      "cell_type": "code",
      "execution_count": null,
      "metadata": {
        "id": "PAsk2Ul_-Cxd",
        "outputId": "7a795957-ffe7-4df8-bdb5-53242aa1e37a"
      },
      "outputs": [
        {
          "name": "stdout",
          "output_type": "stream",
          "text": [
            "The best paramenets are {'max_depth': 8, 'max_features': 4, 'n_estimators': 10} with a score of 0.86\n"
          ]
        }
      ],
      "source": [
        "# Hyperparameter_tunning\n",
        "max_features_range = np.arange(1,11,1)\n",
        "n_estimators_range = np.arange(1,11,1)\n",
        "max_depth_range = np.arange(1,11,1)\n",
        "\n",
        "param_grid = dict(max_features = max_features_range, \n",
        "                  n_estimators = n_estimators_range, \n",
        "                  max_depth = max_depth_range)\n",
        "\n",
        "rfc = RandomForestClassifier(random_state = 12345)\n",
        "\n",
        "grid = GridSearchCV(estimator = rfc, \n",
        "                    param_grid = param_grid, \n",
        "                    cv = 5, scoring='f1_micro')\n",
        "\n",
        "grid.fit(features_train, target_train)\n",
        "\n",
        "print(\"The best paramenets are %s with a score of %0.2f\"% \n",
        "      (grid.best_params_,grid.best_score_))"
      ]
    },
    {
      "cell_type": "code",
      "execution_count": null,
      "metadata": {
        "id": "tmDqeL8d-Cxf",
        "outputId": "3f2cc11e-6244-4560-8d04-79d3ba953464"
      },
      "outputs": [
        {
          "data": {
            "text/plain": [
              "0.5492063492063491"
            ]
          },
          "execution_count": 19,
          "metadata": {},
          "output_type": "execute_result"
        }
      ],
      "source": [
        "# f1_score setelah hyperparameter tunning\n",
        "rfc = RandomForestClassifier(random_state = 12345, \n",
        "                             n_estimators = 10, \n",
        "                             max_depth = 8, \n",
        "                             max_features = 4)\n",
        "rfc.fit(features_train, target_train)\n",
        "predicted_valid = rfc.predict(features_valid)\n",
        "f1_score(target_valid, predicted_valid)"
      ]
    },
    {
      "cell_type": "code",
      "execution_count": null,
      "metadata": {
        "id": "l3xJfL29-Cxf",
        "outputId": "fe896898-a2e9-40aa-9481-de84b4c3211a"
      },
      "outputs": [
        {
          "data": {
            "text/plain": [
              "0.8428303764237626"
            ]
          },
          "execution_count": 20,
          "metadata": {},
          "output_type": "execute_result"
        }
      ],
      "source": [
        "# Menghitung nilai AUC-ROC setelah hyperparameter tunning\n",
        "probabilities_valid = rfc.predict_proba(features_valid)\n",
        "probabilities_one_valid = probabilities_valid[:, 1]\n",
        "\n",
        "roc_auc_score(target_valid, probabilities_one_valid)"
      ]
    },
    {
      "cell_type": "code",
      "execution_count": null,
      "metadata": {
        "id": "0T-1_o_Q-Cxf",
        "outputId": "62c10d15-5d48-4e7b-a7e9-8ffea608dca6"
      },
      "outputs": [
        {
          "data": {
            "text/plain": [
              "0    0.7963\n",
              "1    0.2037\n",
              "Name: exited, dtype: float64"
            ]
          },
          "execution_count": 21,
          "metadata": {},
          "output_type": "execute_result"
        }
      ],
      "source": [
        "# Melihat distribusi nasabah yang masih aktif/tidak\n",
        "df['exited'].value_counts()/ len(df)"
      ]
    },
    {
      "cell_type": "markdown",
      "metadata": {
        "id": "CYZxo3v9-Cxf"
      },
      "source": [
        "Setelah melakukan tunning pada hyperparameter didapatkan peningkata pada nilai f1 dan auc_roc, tetapi nilainya masih dibawah 0.59. Disini diketahui juga bahwa ada ketidakseimbang data antara nasabah yang masih aktif dan tidak sehingga untuk menghindari kesalahan, saya akan melakukan penyesuaian bobot"
      ]
    },
    {
      "cell_type": "markdown",
      "metadata": {
        "id": "6468DZU2-Cxf"
      },
      "source": [
        "#### Mengunakan Metode class_weight <a id='using_class_weight'></a>"
      ]
    },
    {
      "cell_type": "code",
      "execution_count": null,
      "metadata": {
        "id": "EdVV8kGO-Cxg",
        "outputId": "2e6bc56e-8828-4f8b-89c2-6d3eec08d9ef"
      },
      "outputs": [
        {
          "data": {
            "text/plain": [
              "0.6038961038961039"
            ]
          },
          "execution_count": 22,
          "metadata": {},
          "output_type": "execute_result"
        }
      ],
      "source": [
        "# Melatih model baru dengan mempertimbangkan class_weight\n",
        "rfc1 = RandomForestClassifier(random_state = 12345, \n",
        "                             n_estimators = 10, \n",
        "                             max_depth = 8, \n",
        "                             max_features = 4,\n",
        "                             class_weight = 'balanced')\n",
        "rfc1.fit(features_train, target_train)\n",
        "predicted_valid = rfc1.predict(features_valid)\n",
        "f1_score(target_valid, predicted_valid)"
      ]
    },
    {
      "cell_type": "code",
      "execution_count": null,
      "metadata": {
        "scrolled": true,
        "id": "cme544fD-Cxg",
        "outputId": "f9763abe-39e1-43be-f6a3-9928f7a789ba"
      },
      "outputs": [
        {
          "data": {
            "text/plain": [
              "0.8390361966864063"
            ]
          },
          "execution_count": 23,
          "metadata": {},
          "output_type": "execute_result"
        }
      ],
      "source": [
        "# Menghitung nilai AUC-ROC dengan mempertimbangkan class_weight\n",
        "probabilities_valid = rfc1.predict_proba(features_valid)\n",
        "probabilities_one_valid = probabilities_valid[:, 1]\n",
        "\n",
        "roc_auc_score(target_valid, probabilities_one_valid)"
      ]
    },
    {
      "cell_type": "markdown",
      "metadata": {
        "id": "9Xq3qtIu-Cxg"
      },
      "source": [
        "#### Mengunakan Metode upsampling <a id='using_upsampling'></a>"
      ]
    },
    {
      "cell_type": "code",
      "execution_count": null,
      "metadata": {
        "id": "f1rnZgNK-Cxg"
      },
      "outputs": [],
      "source": [
        "# Memisahkan fitur dan target berdasarkan nilai 0 dan 1\n",
        "features_zeros = features_train[target_train == 0]\n",
        "features_ones = features_train[target_train == 1]\n",
        "target_zeros = target_train[target_train == 0]\n",
        "target_ones = target_train[target_train == 1]"
      ]
    },
    {
      "cell_type": "code",
      "execution_count": null,
      "metadata": {
        "id": "GVPHsArj-Cxg",
        "outputId": "ef0ea3d0-a289-47f8-e002-c70cf056a67d"
      },
      "outputs": [
        {
          "data": {
            "text/plain": [
              "(4804, 13)"
            ]
          },
          "execution_count": 25,
          "metadata": {},
          "output_type": "execute_result"
        }
      ],
      "source": [
        "# Melihat shape fitur = 0\n",
        "features_zeros.shape"
      ]
    },
    {
      "cell_type": "code",
      "execution_count": null,
      "metadata": {
        "id": "aTbJeLDf-Cxg",
        "outputId": "81c0e6a8-294a-40be-e243-5b17291fe679"
      },
      "outputs": [
        {
          "data": {
            "text/plain": [
              "(1196, 13)"
            ]
          },
          "execution_count": 26,
          "metadata": {},
          "output_type": "execute_result"
        }
      ],
      "source": [
        "# Melihat shape fitur = 1\n",
        "features_ones.shape"
      ]
    },
    {
      "cell_type": "code",
      "execution_count": null,
      "metadata": {
        "id": "mFHHH3UY-Cxh",
        "outputId": "8d0aa79d-dfa7-4edd-f604-9a68ec4d6788"
      },
      "outputs": [
        {
          "data": {
            "text/plain": [
              "4.016722408026756"
            ]
          },
          "execution_count": 27,
          "metadata": {},
          "output_type": "execute_result"
        }
      ],
      "source": [
        "# Menentukan ratio pengali\n",
        "len(features_zeros)/len(features_ones)"
      ]
    },
    {
      "cell_type": "code",
      "execution_count": null,
      "metadata": {
        "id": "dUkOp9Vw-Cxh"
      },
      "outputs": [],
      "source": [
        "# Membuat fungsi Upsampling\n",
        "def upsample(features, target, repeat):\n",
        "    features_zeros = features[target == 0]\n",
        "    features_ones = features[target == 1]\n",
        "    target_zeros = target[target == 0]\n",
        "    target_ones = target[target == 1]\n",
        "\n",
        "    features_upsampled = pd.concat([features_zeros] + [features_ones] * repeat)\n",
        "    target_upsampled = pd.concat([target_zeros] + [target_ones] * repeat)\n",
        "\n",
        "    features_upsampled, target_upsampled = shuffle(\n",
        "        features_upsampled, target_upsampled, random_state=12345\n",
        "    )\n",
        "\n",
        "    return features_upsampled, target_upsampled"
      ]
    },
    {
      "cell_type": "code",
      "execution_count": null,
      "metadata": {
        "id": "RH654dQX-Cxh"
      },
      "outputs": [],
      "source": [
        "# Memanggil fungsi upsample\n",
        "features_upsampled, target_upsampled = upsample(features_train, target_train, 4)"
      ]
    },
    {
      "cell_type": "code",
      "execution_count": null,
      "metadata": {
        "id": "Z8zLfLGj-Cxh",
        "outputId": "0d892196-702f-426c-f719-49669a91d5de"
      },
      "outputs": [
        {
          "data": {
            "text/plain": [
              "0.5857740585774058"
            ]
          },
          "execution_count": 30,
          "metadata": {},
          "output_type": "execute_result"
        }
      ],
      "source": [
        "# Melatih model baru dengan menggunakan data yang sudah diupsampled\n",
        "rfc2 = RandomForestClassifier(random_state = 12345, \n",
        "                             n_estimators = 10, \n",
        "                             max_depth = 8, \n",
        "                             max_features = 4)\n",
        "rfc2.fit(features_upsampled, target_upsampled)\n",
        "predicted_valid = rfc2.predict(features_valid)\n",
        "f1_score(target_valid, predicted_valid)"
      ]
    },
    {
      "cell_type": "code",
      "execution_count": null,
      "metadata": {
        "id": "o0BwDm5I-Cxh",
        "outputId": "fb65305b-6256-4763-afd1-077e71a50644"
      },
      "outputs": [
        {
          "data": {
            "text/plain": [
              "0.8388615343668907"
            ]
          },
          "execution_count": 31,
          "metadata": {},
          "output_type": "execute_result"
        }
      ],
      "source": [
        "# Menghitung nilai AUC-ROC dengan menggunakan data yang sudah diupsampled\n",
        "probabilities_valid = rfc2.predict_proba(features_valid)\n",
        "probabilities_one_valid = probabilities_valid[:, 1]\n",
        "\n",
        "roc_auc_score(target_valid, probabilities_one_valid)"
      ]
    },
    {
      "cell_type": "markdown",
      "metadata": {
        "id": "4hqSXqy6-Cxi"
      },
      "source": [
        "#### Mengunakan Metode downsampling <a id='using_downsampling'></a>"
      ]
    },
    {
      "cell_type": "code",
      "execution_count": null,
      "metadata": {
        "id": "m6emOjnc-Cxi",
        "outputId": "6a60ccc9-c976-4440-9e8e-2a60f5145802"
      },
      "outputs": [
        {
          "data": {
            "text/plain": [
              "0.24895920066611157"
            ]
          },
          "execution_count": 32,
          "metadata": {},
          "output_type": "execute_result"
        }
      ],
      "source": [
        "# Menentukan ratio pengali\n",
        "len(features_ones)/len(features_zeros)"
      ]
    },
    {
      "cell_type": "code",
      "execution_count": null,
      "metadata": {
        "id": "UNhCs3Cy-Cxi"
      },
      "outputs": [],
      "source": [
        "# Membuat fungsi Downsampling\n",
        "def downsample(features, target, fraction):\n",
        "    features_zeros = features[target == 0]\n",
        "    features_ones = features[target == 1]\n",
        "    target_zeros = target[target == 0]\n",
        "    target_ones = target[target == 1]\n",
        "\n",
        "    features_downsampled = pd.concat(\n",
        "        [features_zeros.sample(frac=fraction, random_state=12345)]\n",
        "        + [features_ones]\n",
        "    )\n",
        "    target_downsampled = pd.concat(\n",
        "        [target_zeros.sample(frac=fraction, random_state=12345)]\n",
        "        + [target_ones]\n",
        "    )\n",
        "\n",
        "    features_downsampled, target_downsampled = shuffle(\n",
        "        features_downsampled, target_downsampled, random_state=12345\n",
        "    )\n",
        "\n",
        "    return features_downsampled, target_downsampled"
      ]
    },
    {
      "cell_type": "code",
      "execution_count": null,
      "metadata": {
        "id": "eypQD2zP-Cxi"
      },
      "outputs": [],
      "source": [
        "# Memanggil fungsi downsample\n",
        "features_downsampled, target_downsampled = downsample(features_train, \n",
        "                                                      target_train, 0.25)"
      ]
    },
    {
      "cell_type": "code",
      "execution_count": null,
      "metadata": {
        "id": "JLCs5Oi_-Cxi",
        "outputId": "1d8f31f6-a556-43b0-8c5d-690ae9bed510"
      },
      "outputs": [
        {
          "data": {
            "text/plain": [
              "0.6001955034213099"
            ]
          },
          "execution_count": 35,
          "metadata": {},
          "output_type": "execute_result"
        }
      ],
      "source": [
        "# Melatih model baru dengan menggunakan data yang sudah didownsampled\n",
        "rfc3 = RandomForestClassifier(random_state = 12345, \n",
        "                             n_estimators = 10, \n",
        "                             max_depth = 8, \n",
        "                             max_features = 4)\n",
        "rfc3.fit(features_downsampled, target_downsampled)\n",
        "predicted_valid = rfc3.predict(features_valid)\n",
        "f1_score(target_valid, predicted_valid)"
      ]
    },
    {
      "cell_type": "code",
      "execution_count": null,
      "metadata": {
        "id": "YYIWteWf-Cxi",
        "outputId": "849e6855-9699-41b0-cb1f-74f741bda3f6"
      },
      "outputs": [
        {
          "data": {
            "text/plain": [
              "0.8436371499948584"
            ]
          },
          "execution_count": 36,
          "metadata": {},
          "output_type": "execute_result"
        }
      ],
      "source": [
        "# Menghitung nilai AUC-ROC dengan menggunakan data yang sudah didownsampled\n",
        "probabilities_valid = rfc3.predict_proba(features_valid)\n",
        "probabilities_one_valid = probabilities_valid[:, 1]\n",
        "\n",
        "roc_auc_score(target_valid, probabilities_one_valid)"
      ]
    },
    {
      "cell_type": "markdown",
      "metadata": {
        "id": "q2NVf6JE-Cxj"
      },
      "source": [
        "#### Menguji dengan Test Dataset <a id='test_dataset_testing'></a>"
      ]
    },
    {
      "cell_type": "code",
      "execution_count": null,
      "metadata": {
        "id": "pSlRcWMQ-Cxj",
        "outputId": "19aaf9e9-5c14-426e-801c-6ea914be2105"
      },
      "outputs": [
        {
          "data": {
            "text/plain": [
              "0.5852090032154341"
            ]
          },
          "execution_count": 37,
          "metadata": {},
          "output_type": "execute_result"
        }
      ],
      "source": [
        "# f1_score RFC1\n",
        "predicted_test = rfc1.predict(features_test)\n",
        "f1_score(target_test, predicted_test)"
      ]
    },
    {
      "cell_type": "code",
      "execution_count": null,
      "metadata": {
        "id": "ruDHTXWg-Cxj",
        "outputId": "70eab710-40a2-4e5c-9266-71807e143a90"
      },
      "outputs": [
        {
          "data": {
            "text/plain": [
              "0.8342860055376414"
            ]
          },
          "execution_count": 38,
          "metadata": {},
          "output_type": "execute_result"
        }
      ],
      "source": [
        "# auc_roc_score RFC1\n",
        "probabilities_test = rfc1.predict_proba(features_test)\n",
        "probabilities_one_test = probabilities_test[:, 1]\n",
        "\n",
        "roc_auc_score(target_test, probabilities_one_test)"
      ]
    },
    {
      "cell_type": "code",
      "execution_count": null,
      "metadata": {
        "id": "vnUHNyK1-Cxj",
        "outputId": "ce4f23b9-2eb2-4019-ad88-08e1f2700c15"
      },
      "outputs": [
        {
          "data": {
            "text/plain": [
              "0.5923694779116466"
            ]
          },
          "execution_count": 39,
          "metadata": {},
          "output_type": "execute_result"
        }
      ],
      "source": [
        "# f1_score RFC2\n",
        "predicted_test = rfc2.predict(features_test)\n",
        "f1_score(target_test, predicted_test)"
      ]
    },
    {
      "cell_type": "code",
      "execution_count": null,
      "metadata": {
        "id": "k_AwVXID-Cxj",
        "outputId": "dc42d87d-3d69-4ba0-bd6f-b0bb34d20a4b"
      },
      "outputs": [
        {
          "data": {
            "text/plain": [
              "0.846633266923611"
            ]
          },
          "execution_count": 40,
          "metadata": {},
          "output_type": "execute_result"
        }
      ],
      "source": [
        "# auc_roc_score RFC2\n",
        "probabilities_test = rfc2.predict_proba(features_test)\n",
        "probabilities_one_test = probabilities_test[:, 1]\n",
        "\n",
        "roc_auc_score(target_test, probabilities_one_test)"
      ]
    },
    {
      "cell_type": "code",
      "execution_count": null,
      "metadata": {
        "id": "I5W5OzpO-Cxj",
        "outputId": "0b702c4d-d64c-40f9-b34b-20496fd4d763"
      },
      "outputs": [
        {
          "data": {
            "text/plain": [
              "0.5684410646387833"
            ]
          },
          "execution_count": 41,
          "metadata": {},
          "output_type": "execute_result"
        }
      ],
      "source": [
        "# f1_score RFC3\n",
        "predicted_test = rfc3.predict(features_test)\n",
        "f1_score(target_test, predicted_test)"
      ]
    },
    {
      "cell_type": "code",
      "execution_count": null,
      "metadata": {
        "id": "ljf0a-JE-Cxj",
        "outputId": "6ebc0e70-cfe6-4446-999c-3c0ce70c60bc"
      },
      "outputs": [
        {
          "data": {
            "text/plain": [
              "0.8308201076047378"
            ]
          },
          "execution_count": 42,
          "metadata": {},
          "output_type": "execute_result"
        }
      ],
      "source": [
        "# auc_roc_score RFC3\n",
        "probabilities_test = rfc3.predict_proba(features_test)\n",
        "probabilities_one_test = probabilities_test[:, 1]\n",
        "\n",
        "roc_auc_score(target_test, probabilities_one_test)"
      ]
    },
    {
      "cell_type": "markdown",
      "metadata": {
        "id": "SdKm7Upf-Cxk"
      },
      "source": [
        "#### Hasil Model RandomForestClassifier <a id='rfc_model_result'></a>"
      ]
    },
    {
      "cell_type": "markdown",
      "metadata": {
        "id": "YYKH1_-A-Cxk"
      },
      "source": [
        "Berikut rangkuman hasil f1_score dan auc_roc_score menggunakan metode penyeimbangan kelas yang berbeda-beda:"
      ]
    },
    {
      "cell_type": "code",
      "execution_count": null,
      "metadata": {
        "id": "ZF7SkVlm-Cxk",
        "outputId": "73ac4979-0f4f-46f6-8e42-d2b777d9d742"
      },
      "outputs": [
        {
          "data": {
            "text/html": [
              "<div>\n",
              "<style scoped>\n",
              "    .dataframe tbody tr th:only-of-type {\n",
              "        vertical-align: middle;\n",
              "    }\n",
              "\n",
              "    .dataframe tbody tr th {\n",
              "        vertical-align: top;\n",
              "    }\n",
              "\n",
              "    .dataframe thead th {\n",
              "        text-align: right;\n",
              "    }\n",
              "</style>\n",
              "<table border=\"1\" class=\"dataframe\">\n",
              "  <thead>\n",
              "    <tr style=\"text-align: right;\">\n",
              "      <th></th>\n",
              "      <th>Method</th>\n",
              "      <th>valid_data</th>\n",
              "      <th>test_data</th>\n",
              "    </tr>\n",
              "  </thead>\n",
              "  <tbody>\n",
              "    <tr>\n",
              "      <th>0</th>\n",
              "      <td>class_weight</td>\n",
              "      <td>0.603</td>\n",
              "      <td>0.585</td>\n",
              "    </tr>\n",
              "    <tr>\n",
              "      <th>1</th>\n",
              "      <td>upsampling</td>\n",
              "      <td>0.585</td>\n",
              "      <td>0.592</td>\n",
              "    </tr>\n",
              "    <tr>\n",
              "      <th>2</th>\n",
              "      <td>downsampling</td>\n",
              "      <td>0.600</td>\n",
              "      <td>0.568</td>\n",
              "    </tr>\n",
              "  </tbody>\n",
              "</table>\n",
              "</div>"
            ],
            "text/plain": [
              "         Method  valid_data  test_data\n",
              "0  class_weight       0.603      0.585\n",
              "1    upsampling       0.585      0.592\n",
              "2  downsampling       0.600      0.568"
            ]
          },
          "execution_count": 43,
          "metadata": {},
          "output_type": "execute_result"
        }
      ],
      "source": [
        "f1_data = {'Method': ['class_weight', 'upsampling', 'downsampling'],\n",
        "         'valid_data': [0.603, 0.585, 0.600],\n",
        "         'test_data': [0.585, 0.592, 0.568]}\n",
        "\n",
        "df_f1 = pd.DataFrame(f1_data)\n",
        "df_f1"
      ]
    },
    {
      "cell_type": "code",
      "execution_count": null,
      "metadata": {
        "id": "g_FBDNki-Cxk",
        "outputId": "a2228eaa-a99d-4786-b597-d3d37b7cc6e0"
      },
      "outputs": [
        {
          "data": {
            "text/html": [
              "<div>\n",
              "<style scoped>\n",
              "    .dataframe tbody tr th:only-of-type {\n",
              "        vertical-align: middle;\n",
              "    }\n",
              "\n",
              "    .dataframe tbody tr th {\n",
              "        vertical-align: top;\n",
              "    }\n",
              "\n",
              "    .dataframe thead th {\n",
              "        text-align: right;\n",
              "    }\n",
              "</style>\n",
              "<table border=\"1\" class=\"dataframe\">\n",
              "  <thead>\n",
              "    <tr style=\"text-align: right;\">\n",
              "      <th></th>\n",
              "      <th>Method</th>\n",
              "      <th>valid_data</th>\n",
              "      <th>test_data</th>\n",
              "    </tr>\n",
              "  </thead>\n",
              "  <tbody>\n",
              "    <tr>\n",
              "      <th>0</th>\n",
              "      <td>class_weight</td>\n",
              "      <td>0.839</td>\n",
              "      <td>0.834</td>\n",
              "    </tr>\n",
              "    <tr>\n",
              "      <th>1</th>\n",
              "      <td>upsampling</td>\n",
              "      <td>0.838</td>\n",
              "      <td>0.846</td>\n",
              "    </tr>\n",
              "    <tr>\n",
              "      <th>2</th>\n",
              "      <td>downsampling</td>\n",
              "      <td>0.843</td>\n",
              "      <td>0.830</td>\n",
              "    </tr>\n",
              "  </tbody>\n",
              "</table>\n",
              "</div>"
            ],
            "text/plain": [
              "         Method  valid_data  test_data\n",
              "0  class_weight       0.839      0.834\n",
              "1    upsampling       0.838      0.846\n",
              "2  downsampling       0.843      0.830"
            ]
          },
          "execution_count": 44,
          "metadata": {},
          "output_type": "execute_result"
        }
      ],
      "source": [
        "auc_roc_data = {'Method': ['class_weight', 'upsampling', 'downsampling'],\n",
        "                'valid_data': [0.839, 0.838, 0.843],\n",
        "                'test_data': [0.834, 0.846, 0.830]}\n",
        "\n",
        "df_auc_roc = pd.DataFrame(auc_roc_data)\n",
        "df_auc_roc"
      ]
    },
    {
      "cell_type": "markdown",
      "metadata": {
        "id": "0OmmoB2E-Cxk"
      },
      "source": [
        "**Insights:**\n",
        "1. Berdasarkan pengujian menggunakan valid_data didapatkan bahwa metode class_weight menghasilkan nilai f1 tertinggi, tetapi mengalami penurunan pada pengujian menggunakan test_data meskipun tidak setinggi metode downsampling\n",
        "2. Hal yang serupa pada poin (1) ditemukan kembali pada nilai auc_roc\n",
        "3. Berdasarkan ketiga pengujian, didapatkan bahwa metode class_weight dan upsampling lebih baik dibandingkan dengan metode downsampling. Metode class_weight menghasilkan nilai f1 > 0.59 pada valid_data, sedangkan metode upsampling menghasilkan nilai f1 > 0.59 pada test data.\n",
        "4. Disini saya akan menetapkan bahwa metode upsampling lebih baik karena mampu meprediksi dengan lebih tepat jika dihadapkan dengan data diluar train_dataset dibandingkan class_weight"
      ]
    },
    {
      "cell_type": "markdown",
      "metadata": {
        "id": "_Od8IeeO-Cxk"
      },
      "source": [
        "### Melatih Model LogisticRegression <a id='lr_model_train'></a>"
      ]
    },
    {
      "cell_type": "code",
      "execution_count": null,
      "metadata": {
        "id": "yiAfvr3b-Cxl"
      },
      "outputs": [],
      "source": [
        "# Drop kolom surname sehingga tidak dimasukan dalam OHE\n",
        "df.drop(columns=['surname', 'customerid', 'rownumber'], inplace = True)"
      ]
    },
    {
      "cell_type": "code",
      "execution_count": null,
      "metadata": {
        "id": "5QrslYaL-Cxl"
      },
      "outputs": [],
      "source": [
        "# OHE\n",
        "df_ohe = pd.get_dummies(df, drop_first=True)"
      ]
    },
    {
      "cell_type": "code",
      "execution_count": null,
      "metadata": {
        "id": "L6Z52yX3-Cxl"
      },
      "outputs": [],
      "source": [
        "# Mendefininikan data features dan data target\n",
        "features_ohe = df_ohe.drop(['exited'], axis=1)\n",
        "target_ohe = df_ohe['exited']"
      ]
    },
    {
      "cell_type": "code",
      "execution_count": null,
      "metadata": {
        "id": "PPq0tyhO-Cxl"
      },
      "outputs": [],
      "source": [
        "# Membagi dataframe menjadi 3 set\n",
        "features_train, features_check, target_train, target_check = train_test_split(\n",
        "    features_ohe, target_ohe, test_size = 0.4, random_state = 12345)\n",
        "\n",
        "features_valid, features_test, target_valid, target_test = train_test_split(\n",
        "    features_check, target_check, test_size = 0.5, random_state = 12345)"
      ]
    },
    {
      "cell_type": "code",
      "execution_count": null,
      "metadata": {
        "id": "cEW9XGAo-Cxl",
        "outputId": "c1b08480-9451-4714-dad8-325d97d7647d"
      },
      "outputs": [
        {
          "data": {
            "text/plain": [
              "Index(['creditscore', 'geography', 'gender', 'age', 'tenure', 'balance',\n",
              "       'numofproducts', 'hascrcard', 'isactivemember', 'estimatedsalary',\n",
              "       'exited'],\n",
              "      dtype='object')"
            ]
          },
          "execution_count": 49,
          "metadata": {},
          "output_type": "execute_result"
        }
      ],
      "source": [
        "df.columns"
      ]
    },
    {
      "cell_type": "code",
      "execution_count": null,
      "metadata": {
        "scrolled": true,
        "id": "1oN8KiTh-Cxl"
      },
      "outputs": [],
      "source": [
        "numeric = ['balance', 'age', 'estimatedsalary']\n",
        "\n",
        "scaler = StandardScaler()\n",
        "scaler.fit(features_train[numeric])\n",
        "features_train[numeric] = scaler.transform(features_train[numeric])\n",
        "features_valid[numeric] = scaler.transform(features_valid[numeric])\n",
        "features_test[numeric] = scaler.transform(features_test[numeric])"
      ]
    },
    {
      "cell_type": "markdown",
      "metadata": {
        "id": "4eQ80C59-Cxm"
      },
      "source": [
        "#### Mengunakan Metode class_weight <a id='using_class_weight'></a>"
      ]
    },
    {
      "cell_type": "code",
      "execution_count": null,
      "metadata": {
        "id": "dzPPr8H2-Cxm",
        "outputId": "1a55fbf8-7214-4392-e2d0-653fa4361fc2"
      },
      "outputs": [
        {
          "data": {
            "text/plain": [
              "0.4888888888888888"
            ]
          },
          "execution_count": 51,
          "metadata": {},
          "output_type": "execute_result"
        }
      ],
      "source": [
        "# Membuat model\n",
        "lr = LogisticRegression(random_state=12345, \n",
        "                        solver = 'liblinear', \n",
        "                        class_weight = 'balanced')\n",
        "lr.fit(features_train, target_train)\n",
        "predicted_valid = lr.predict(features_valid)\n",
        "f1_score(target_valid, predicted_valid)"
      ]
    },
    {
      "cell_type": "code",
      "execution_count": null,
      "metadata": {
        "id": "TKLplOIY-Cxm",
        "outputId": "3316c70c-7636-4034-9e4f-6563fd756ed2"
      },
      "outputs": [
        {
          "data": {
            "text/plain": [
              "0.7635873674532268"
            ]
          },
          "execution_count": 52,
          "metadata": {},
          "output_type": "execute_result"
        }
      ],
      "source": [
        "# Menghitung nilai AUC-ROC\n",
        "probabilities_valid = lr.predict_proba(features_valid)\n",
        "probabilities_one_valid = probabilities_valid[:, 1]\n",
        "\n",
        "roc_auc_score(target_valid, probabilities_one_valid)"
      ]
    },
    {
      "cell_type": "code",
      "execution_count": null,
      "metadata": {
        "id": "xechOtUr-Cxm",
        "outputId": "ea66989c-09d8-4030-e430-4189118a3453"
      },
      "outputs": [
        {
          "name": "stdout",
          "output_type": "stream",
          "text": [
            "The best paramenets are {'C': 0.1, 'penalty': 'l1', 'solver': 'saga'} with a score of 0.73\n"
          ]
        }
      ],
      "source": [
        "# Hyperparameter_tunning\n",
        "params = {'C': [0.1, 1, 10, 100],\n",
        "          'solver': ['lbfgs', 'sag', 'saga', \n",
        "                     'newton-cg', 'liblinear', 'newton-cholesky'],\n",
        "          'penalty': ['l1', 'l2']}\n",
        "\n",
        "lr = LogisticRegression(random_state = 12345, class_weight = 'balanced')\n",
        "grid = GridSearchCV(estimator = lr, \n",
        "                    param_grid = params, \n",
        "                    cv=5, scoring='f1_micro')\n",
        "\n",
        "grid.fit(features_train, target_train)\n",
        "\n",
        "print(\"The best paramenets are %s with a score of %0.2f\"% \n",
        "      (grid.best_params_,grid.best_score_))"
      ]
    },
    {
      "cell_type": "code",
      "execution_count": null,
      "metadata": {
        "id": "-f66t2B1-Cxm",
        "outputId": "8db5ac8d-2dcc-4f75-a3d2-36f79585ef38"
      },
      "outputs": [
        {
          "data": {
            "text/plain": [
              "0.4888888888888888"
            ]
          },
          "execution_count": 54,
          "metadata": {},
          "output_type": "execute_result"
        }
      ],
      "source": [
        "# f1_score setelah hyperparameter tunning\n",
        "lr1 = LogisticRegression(random_state = 12345,\n",
        "                        class_weight = 'balanced',\n",
        "                        C = 10, penalty = 'l1', \n",
        "                        solver = 'liblinear')\n",
        "lr1.fit(features_train, target_train)\n",
        "predicted_valid = lr1.predict(features_valid)\n",
        "f1_score(target_valid, predicted_valid)"
      ]
    },
    {
      "cell_type": "code",
      "execution_count": null,
      "metadata": {
        "scrolled": true,
        "id": "jNaI8Avm-Cxm",
        "outputId": "d5603ade-538c-43b2-9c14-709afc908c53"
      },
      "outputs": [
        {
          "data": {
            "text/plain": [
              "0.7634346324378928"
            ]
          },
          "execution_count": 55,
          "metadata": {},
          "output_type": "execute_result"
        }
      ],
      "source": [
        "# Menghitung nilai AUC-ROC dengan menggunakan data yang sudah diupsampled\n",
        "probabilities_valid = lr1.predict_proba(features_valid)\n",
        "probabilities_one_valid = probabilities_valid[:, 1]\n",
        "\n",
        "roc_auc_score(target_valid, probabilities_one_valid)"
      ]
    },
    {
      "cell_type": "markdown",
      "metadata": {
        "id": "XaEx94Pq-Cxn"
      },
      "source": [
        "#### Mengunakan Metode upsampling <a id='using_upsampling'></a>"
      ]
    },
    {
      "cell_type": "code",
      "execution_count": null,
      "metadata": {
        "id": "XPMWjemO-Cxn"
      },
      "outputs": [],
      "source": [
        "features_upsampled, target_upsampled = upsample(features_train, target_train, 4)"
      ]
    },
    {
      "cell_type": "code",
      "execution_count": null,
      "metadata": {
        "id": "oWOUETZ4-Cxn",
        "outputId": "96bed58f-4159-43cf-9c72-29892998418c"
      },
      "outputs": [
        {
          "data": {
            "text/plain": [
              "0.4888888888888888"
            ]
          },
          "execution_count": 57,
          "metadata": {},
          "output_type": "execute_result"
        }
      ],
      "source": [
        "# Melatih model baru dengan menggunakan data yang sudah diupsampled\n",
        "lr2 = LogisticRegression(random_state = 12345,\n",
        "                         C = 10, penalty = 'l1', \n",
        "                         solver = 'liblinear')\n",
        "lr2.fit(features_upsampled, target_upsampled)\n",
        "predicted_valid = lr2.predict(features_valid)\n",
        "f1_score(target_valid, predicted_valid)"
      ]
    },
    {
      "cell_type": "code",
      "execution_count": null,
      "metadata": {
        "id": "6bkS5fnM-Cxn",
        "outputId": "8509d47d-b3a9-44fa-fd52-3c65b0023ae6"
      },
      "outputs": [
        {
          "data": {
            "text/plain": [
              "0.7633953145131533"
            ]
          },
          "execution_count": 58,
          "metadata": {},
          "output_type": "execute_result"
        }
      ],
      "source": [
        "# Menghitung nilai AUC-ROC dengan menggunakan data yang sudah diupsampled\n",
        "probabilities_valid = lr2.predict_proba(features_valid)\n",
        "probabilities_one_valid = probabilities_valid[:, 1]\n",
        "\n",
        "roc_auc_score(target_valid, probabilities_one_valid)"
      ]
    },
    {
      "cell_type": "markdown",
      "metadata": {
        "id": "3aQkop4a-Cxn"
      },
      "source": [
        "#### Mengunakan Metode downsampling <a id='using_downsampling'></a>"
      ]
    },
    {
      "cell_type": "code",
      "execution_count": null,
      "metadata": {
        "id": "8KgoQx7q-Cxo"
      },
      "outputs": [],
      "source": [
        "# Memanggil fungsi downsample\n",
        "features_downsampled, target_downsampled = downsample(features_train, \n",
        "                                                      target_train, 0.25)"
      ]
    },
    {
      "cell_type": "code",
      "execution_count": null,
      "metadata": {
        "id": "azWq9KAt-Cxo",
        "outputId": "67405167-55a9-4207-a199-9b19e49bd6aa"
      },
      "outputs": [
        {
          "data": {
            "text/plain": [
              "0.4888507718696398"
            ]
          },
          "execution_count": 60,
          "metadata": {},
          "output_type": "execute_result"
        }
      ],
      "source": [
        "# Melatih model baru dengan menggunakan data yang sudah diupsampled\n",
        "lr3 = LogisticRegression(random_state = 12345,\n",
        "                         C = 10, penalty = 'l1', \n",
        "                         solver = 'liblinear')\n",
        "lr3.fit(features_downsampled, target_downsampled)\n",
        "predicted_valid = lr3.predict(features_valid)\n",
        "f1_score(target_valid, predicted_valid)"
      ]
    },
    {
      "cell_type": "code",
      "execution_count": null,
      "metadata": {
        "id": "h16VjYRz-Cxo",
        "outputId": "82314289-8f90-48c9-9783-946ab20c1663"
      },
      "outputs": [
        {
          "data": {
            "text/plain": [
              "0.7623745606978025"
            ]
          },
          "execution_count": 61,
          "metadata": {},
          "output_type": "execute_result"
        }
      ],
      "source": [
        "# Menghitung nilai AUC-ROC dengan menggunakan data yang sudah diupsampled\n",
        "probabilities_valid = lr3.predict_proba(features_valid)\n",
        "probabilities_one_valid = probabilities_valid[:, 1]\n",
        "\n",
        "roc_auc_score(target_valid, probabilities_one_valid)"
      ]
    },
    {
      "cell_type": "markdown",
      "metadata": {
        "id": "5DAyZ910-Cxo"
      },
      "source": [
        "#### Hasil Model Logistic Regression <a id='rfc_model_result'></a>"
      ]
    },
    {
      "cell_type": "markdown",
      "metadata": {
        "id": "FnJMO_zu-Cxo"
      },
      "source": [
        "**Insights:**\n",
        "Menggunakan Model LogisticRegression, saya tidak mendapatkan nilai f1 lebih dari 0.59 bahkan rata-rata modelnya menghasilkan nilai kurang dari 0.5, sehingga saya akan mencoba satu model lagi yang diajarkan, yaitu DecisionTree"
      ]
    },
    {
      "cell_type": "markdown",
      "metadata": {
        "id": "PLRo_JRQ-Cxo"
      },
      "source": [
        "### Melatih Model DecisionTreeClassifier <a id='dtc_model_train'></a>"
      ]
    },
    {
      "cell_type": "code",
      "execution_count": null,
      "metadata": {
        "id": "VPfWy0wv-Cxo",
        "outputId": "b4777104-2d0b-4d7a-d351-5fd9dd4b3714"
      },
      "outputs": [
        {
          "data": {
            "text/plain": [
              "0.5807407407407408"
            ]
          },
          "execution_count": 62,
          "metadata": {},
          "output_type": "execute_result"
        }
      ],
      "source": [
        "# Membuat model\n",
        "dtc = RandomForestClassifier(random_state=12345)\n",
        "dtc.fit(features_train, target_train)\n",
        "predicted_valid = dtc.predict(features_valid)\n",
        "f1_score(target_valid, predicted_valid)"
      ]
    },
    {
      "cell_type": "code",
      "execution_count": null,
      "metadata": {
        "id": "6tg8hi28-Cxp",
        "outputId": "4538ee8a-29dd-4cf4-c972-f4cf8a98cee7"
      },
      "outputs": [
        {
          "data": {
            "text/plain": [
              "0.842530955304593"
            ]
          },
          "execution_count": 63,
          "metadata": {},
          "output_type": "execute_result"
        }
      ],
      "source": [
        "# Menghitung nilai AUC-ROC\n",
        "probabilities_valid = dtc.predict_proba(features_valid)\n",
        "probabilities_one_valid = probabilities_valid[:, 1]\n",
        "\n",
        "roc_auc_score(target_valid, probabilities_one_valid)"
      ]
    },
    {
      "cell_type": "code",
      "execution_count": null,
      "metadata": {
        "id": "r70F85au-Cxp",
        "outputId": "eb9842de-1146-4982-9a65-9efde9e98b6c"
      },
      "outputs": [
        {
          "name": "stdout",
          "output_type": "stream",
          "text": [
            "The best paramenets are {'criterion': 'gini', 'max_depth': 7, 'max_features': None} with a score of 0.56\n"
          ]
        }
      ],
      "source": [
        "# Hyperparameter_tunning\n",
        "\n",
        "param_grid = {\n",
        "    'criterion': ['gini', 'entropy'],\n",
        "    'max_depth': [1, 2, 3, 4, 5, 6, 7, 8, 9, None],\n",
        "    'max_features': ['auto', 'sqrt', 'log2', None]\n",
        "}\n",
        "\n",
        "dtc = DecisionTreeClassifier(random_state = 12345)\n",
        "\n",
        "grid = GridSearchCV(estimator = dtc, \n",
        "                    param_grid = param_grid, \n",
        "                    cv = 5, scoring='f1')\n",
        "\n",
        "grid.fit(features_train, target_train)\n",
        "\n",
        "print(\"The best paramenets are %s with a score of %0.2f\"% \n",
        "      (grid.best_params_,grid.best_score_))"
      ]
    },
    {
      "cell_type": "code",
      "execution_count": null,
      "metadata": {
        "id": "ubq2fy3k-Cxp",
        "outputId": "5a241f81-88f1-4acb-e730-2169a8f8ee53"
      },
      "outputs": [
        {
          "data": {
            "text/plain": [
              "0.5468750000000001"
            ]
          },
          "execution_count": 65,
          "metadata": {},
          "output_type": "execute_result"
        }
      ],
      "source": [
        "# f1_score setelah hyperparameter tunning\n",
        "dtc = DecisionTreeClassifier(random_state = 12345, \n",
        "                             criterion = 'entropy', \n",
        "                             max_depth = 7, \n",
        "                             max_features = None)\n",
        "dtc.fit(features_train, target_train)\n",
        "predicted_valid = dtc.predict(features_valid)\n",
        "f1_score(target_valid, predicted_valid)"
      ]
    },
    {
      "cell_type": "code",
      "execution_count": null,
      "metadata": {
        "id": "7yF1qUbC-Cxp",
        "outputId": "45abdc1f-dbb8-43c8-dfed-da284b00ed8b"
      },
      "outputs": [
        {
          "data": {
            "text/plain": [
              "0.8166635413957258"
            ]
          },
          "execution_count": 66,
          "metadata": {},
          "output_type": "execute_result"
        }
      ],
      "source": [
        "# Menghitung nilai AUC-ROC setelah hyperparameter tunning\n",
        "probabilities_valid = dtc.predict_proba(features_valid)\n",
        "probabilities_one_valid = probabilities_valid[:, 1]\n",
        "\n",
        "roc_auc_score(target_valid, probabilities_one_valid)"
      ]
    },
    {
      "cell_type": "markdown",
      "metadata": {
        "id": "Eb1Ccm5W-Cxp"
      },
      "source": [
        "#### Mengunakan Metode class_weight <a id='using_class_weight'></a>"
      ]
    },
    {
      "cell_type": "code",
      "execution_count": null,
      "metadata": {
        "id": "txfFCcDY-Cxq",
        "outputId": "ea7d1d94-d1fe-42c8-b760-8ff781ee201a"
      },
      "outputs": [
        {
          "data": {
            "text/plain": [
              "0.5655577299412915"
            ]
          },
          "execution_count": 67,
          "metadata": {},
          "output_type": "execute_result"
        }
      ],
      "source": [
        "# f1_score setelah hyperparameter tunning\n",
        "dtc1 = DecisionTreeClassifier(random_state = 12345,\n",
        "                             class_weight = 'balanced',\n",
        "                             criterion = 'entropy', \n",
        "                             max_depth = 7, \n",
        "                             max_features = None)\n",
        "dtc1.fit(features_train, target_train)\n",
        "predicted_valid = dtc1.predict(features_valid)\n",
        "f1_score(target_valid, predicted_valid)"
      ]
    },
    {
      "cell_type": "code",
      "execution_count": null,
      "metadata": {
        "id": "qfw6s9EF-Cxq",
        "outputId": "25d1511e-3943-4765-b6ba-7242400a2c40"
      },
      "outputs": [
        {
          "data": {
            "text/plain": [
              "0.8145486907131062"
            ]
          },
          "execution_count": 68,
          "metadata": {},
          "output_type": "execute_result"
        }
      ],
      "source": [
        "# Menghitung nilai AUC-ROC dengan mempertimbangkan class_weight\n",
        "probabilities_valid = dtc1.predict_proba(features_valid)\n",
        "probabilities_one_valid = probabilities_valid[:, 1]\n",
        "\n",
        "roc_auc_score(target_valid, probabilities_one_valid)"
      ]
    },
    {
      "cell_type": "markdown",
      "metadata": {
        "id": "7VRrSDDT-Cxq"
      },
      "source": [
        "#### Mengunakan Metode upsampling <a id='using_upsampling'></a>"
      ]
    },
    {
      "cell_type": "code",
      "execution_count": null,
      "metadata": {
        "id": "--UdNlMP-Cxq",
        "outputId": "a76a11ad-8a0e-45b6-dab4-0837fb1fdaf8"
      },
      "outputs": [
        {
          "data": {
            "text/plain": [
              "0.5641527913809989"
            ]
          },
          "execution_count": 69,
          "metadata": {},
          "output_type": "execute_result"
        }
      ],
      "source": [
        "# Melatih model baru dengan menggunakan data yang sudah diupsampled\n",
        "dtc2 = DecisionTreeClassifier(random_state = 12345,\n",
        "                             criterion = 'entropy', \n",
        "                             max_depth = 7, \n",
        "                             max_features = None)\n",
        "dtc2.fit(features_upsampled, target_upsampled)\n",
        "predicted_valid = dtc2.predict(features_valid)\n",
        "f1_score(target_valid, predicted_valid)"
      ]
    },
    {
      "cell_type": "code",
      "execution_count": null,
      "metadata": {
        "id": "O7ih5BSi-Cxq",
        "outputId": "13bd6101-a04c-4faf-bfb2-6f4b233b28d4"
      },
      "outputs": [
        {
          "data": {
            "text/plain": [
              "0.8127136021872864"
            ]
          },
          "execution_count": 70,
          "metadata": {},
          "output_type": "execute_result"
        }
      ],
      "source": [
        "# Menghitung nilai AUC-ROC dengan menggunakan data yang sudah diupsampled\n",
        "probabilities_valid = dtc2.predict_proba(features_valid)\n",
        "probabilities_one_valid = probabilities_valid[:, 1]\n",
        "\n",
        "roc_auc_score(target_valid, probabilities_one_valid)"
      ]
    },
    {
      "cell_type": "markdown",
      "metadata": {
        "id": "iLIT-BXO-Cxq"
      },
      "source": [
        "#### Mengunakan Metode downsampling <a id='using_downsampling'></a>"
      ]
    },
    {
      "cell_type": "code",
      "execution_count": null,
      "metadata": {
        "id": "05mVUR7p-Cxr",
        "outputId": "47de2bb1-4f86-422f-e945-45d6908ba50b"
      },
      "outputs": [
        {
          "data": {
            "text/plain": [
              "0.5641527913809989"
            ]
          },
          "execution_count": 71,
          "metadata": {},
          "output_type": "execute_result"
        }
      ],
      "source": [
        "# Melatih model baru dengan menggunakan data yang sudah diupsampled\n",
        "dtc3 = DecisionTreeClassifier(random_state = 12345,\n",
        "                             criterion = 'entropy', \n",
        "                             max_depth = 7, \n",
        "                             max_features = None)\n",
        "dtc3.fit(features_downsampled, target_downsampled)\n",
        "predicted_valid = dtc2.predict(features_valid)\n",
        "f1_score(target_valid, predicted_valid)"
      ]
    },
    {
      "cell_type": "code",
      "execution_count": null,
      "metadata": {
        "id": "6E1FwZUX-Cxr",
        "outputId": "e3d015d8-d185-45fc-c49f-bd70b724c8f9"
      },
      "outputs": [
        {
          "data": {
            "text/plain": [
              "0.7973213907657317"
            ]
          },
          "execution_count": 72,
          "metadata": {},
          "output_type": "execute_result"
        }
      ],
      "source": [
        "# Menghitung nilai AUC-ROC dengan menggunakan data yang sudah didownsampled\n",
        "probabilities_valid = dtc3.predict_proba(features_valid)\n",
        "probabilities_one_valid = probabilities_valid[:, 1]\n",
        "\n",
        "roc_auc_score(target_valid, probabilities_one_valid)"
      ]
    },
    {
      "cell_type": "markdown",
      "metadata": {
        "id": "kDQqV9EQ-Cxr"
      },
      "source": [
        "#### Hasil Model DecisionTreeClassifier <a id='dtc_model_result'></a>"
      ]
    },
    {
      "cell_type": "markdown",
      "metadata": {
        "id": "6S_FitY--Cxr"
      },
      "source": [
        "**Insights:**\n",
        "- Menggunakan Model DecisionTreeClassifier, saya tidak mendapatkan nilai f1 lebih dari 0.59 rata-rata model ini dapat menghasilkan nilai f1 +- 0.56"
      ]
    },
    {
      "cell_type": "markdown",
      "metadata": {
        "id": "81t4VdXU-Cxr"
      },
      "source": [
        "## Kesimpulan <a id='summary'></a>"
      ]
    },
    {
      "cell_type": "markdown",
      "metadata": {
        "id": "w2o64UT5-Cxr"
      },
      "source": [
        "Pada projek ini saya membuat sebuah Machine Learning sederhana dengan mempertimbangkan keseimbangan antara data positif dan negatif menggunkaan 3 metode, yaitu class_weight, upsampling, dan downsampling. Saya membuatnya menggunakan 3 model yang berbeda, tetapi nilai f1 tertinggi didapatkan oleh model RandomForest, lalu DecisionTree dan f1 terendah oleh Model LogisticRegression."
      ]
    }
  ],
  "metadata": {
    "kernelspec": {
      "display_name": "Python 3 (ipykernel)",
      "language": "python",
      "name": "python3"
    },
    "language_info": {
      "codemirror_mode": {
        "name": "ipython",
        "version": 3
      },
      "file_extension": ".py",
      "mimetype": "text/x-python",
      "name": "python",
      "nbconvert_exporter": "python",
      "pygments_lexer": "ipython3",
      "version": "3.9.5"
    },
    "toc": {
      "base_numbering": 1,
      "nav_menu": {},
      "number_sections": true,
      "sideBar": true,
      "skip_h1_title": true,
      "title_cell": "Table of Contents",
      "title_sidebar": "Contents",
      "toc_cell": false,
      "toc_position": {
        "height": "calc(100% - 180px)",
        "left": "10px",
        "top": "150px",
        "width": "291.67px"
      },
      "toc_section_display": true,
      "toc_window_display": true
    },
    "colab": {
      "provenance": []
    }
  },
  "nbformat": 4,
  "nbformat_minor": 0
}